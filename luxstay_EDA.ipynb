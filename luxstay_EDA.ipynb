{
 "cells": [
  {
   "cell_type": "code",
   "execution_count": 42,
   "metadata": {},
   "outputs": [],
   "source": [
    "# import necessary packages\n",
    "import numpy as np\n",
    "import pandas as pd\n",
    "import matplotlib.pyplot as plt\n",
    "import seaborn as sns\n",
    "\n",
    "from sklearn.model_selection import train_test_split\n",
    "from sklearn.model_selection import learning_curve\n",
    "from sklearn.model_selection import validation_curve\n",
    "from sklearn.model_selection import cross_val_score\n",
    "from sklearn.linear_model import LinearRegression\n",
    "from sklearn import metrics"
   ]
  },
  {
   "cell_type": "markdown",
   "metadata": {},
   "source": [
    "Load our dataset"
   ]
  },
  {
   "cell_type": "code",
   "execution_count": 46,
   "metadata": {},
   "outputs": [],
   "source": [
    "df = pd.read_csv('data/apartment.csv')"
   ]
  },
  {
   "cell_type": "markdown",
   "metadata": {},
   "source": [
    "# 1. Cleaning data\n",
    "***"
   ]
  },
  {
   "cell_type": "markdown",
   "metadata": {},
   "source": [
    "First and foremost, a overview of our dataset"
   ]
  },
  {
   "cell_type": "code",
   "execution_count": 3,
   "metadata": {
    "scrolled": false
   },
   "outputs": [
    {
     "name": "stdout",
     "output_type": "stream",
     "text": [
      "<class 'pandas.core.frame.DataFrame'>\n",
      "RangeIndex: 3364 entries, 0 to 3363\n",
      "Data columns (total 20 columns):\n",
      " #   Column             Non-Null Count  Dtype  \n",
      "---  ------             --------------  -----  \n",
      " 0   apartment_id       3364 non-null   int64  \n",
      " 1   name               3364 non-null   object \n",
      " 2   num_bedrooms       3364 non-null   int64  \n",
      " 3   num_bathrooms      3364 non-null   int64  \n",
      " 4   num_beds           3364 non-null   int64  \n",
      " 5   area               3326 non-null   float64\n",
      " 6   maximum_guests     3364 non-null   int64  \n",
      " 7   rating             3364 non-null   int64  \n",
      " 8   review_count       3364 non-null   int64  \n",
      " 9   like_count         3364 non-null   int64  \n",
      " 10  bedType_name       3356 non-null   object \n",
      " 11  roomType_name      3364 non-null   object \n",
      " 12  propertyType_name  3364 non-null   object \n",
      " 13  nightly_price_vnd  3364 non-null   float64\n",
      " 14  ward               2416 non-null   object \n",
      " 15  district           3360 non-null   object \n",
      " 16  city               3364 non-null   object \n",
      " 17  latitude           3364 non-null   float64\n",
      " 18  longitude          3364 non-null   float64\n",
      " 19  amenities          3364 non-null   object \n",
      "dtypes: float64(4), int64(8), object(8)\n",
      "memory usage: 525.8+ KB\n"
     ]
    }
   ],
   "source": [
    "df.info()"
   ]
  },
  {
   "cell_type": "markdown",
   "metadata": {},
   "source": [
    "### Look at this tables, we can extract some important information\n",
    "- Some columns have missing record: area, bedType_name, ward, district\n",
    "- The data type for each columns are not optimised for memory usage\n",
    "- Some variables does not bring much value to our analysis or modeling: apartment_id, name\n",
    "\n",
    "### We will deal with each of these step by step\n",
    "***"
   ]
  },
  {
   "cell_type": "markdown",
   "metadata": {},
   "source": [
    "Due to the data collection process, there might be some duplicates, remove them as such"
   ]
  },
  {
   "cell_type": "code",
   "execution_count": 4,
   "metadata": {},
   "outputs": [],
   "source": [
    "df.drop_duplicates(subset='apartment_id', inplace=True)"
   ]
  },
  {
   "cell_type": "markdown",
   "metadata": {},
   "source": [
    "Fill missing value with a median value"
   ]
  },
  {
   "cell_type": "code",
   "execution_count": 5,
   "metadata": {},
   "outputs": [],
   "source": [
    "# area\n",
    "df['area'].fillna(df['area'].median(), inplace=True)\n",
    "# bedType_name\n",
    "df['bedType_name'].fillna(df['bedType_name'].mode()[0], inplace=True)\n",
    "# ward\n",
    "df['district'].fillna(df['district'].mode()[0], inplace=True)\n",
    "# ward\n",
    "df['ward'].fillna(df['ward'].mode()[0], inplace=True)"
   ]
  },
  {
   "cell_type": "markdown",
   "metadata": {},
   "source": [
    "The data only has one city (HCMC) as the whole column value, drop 'city' column"
   ]
  },
  {
   "cell_type": "code",
   "execution_count": 6,
   "metadata": {},
   "outputs": [],
   "source": [
    "df.drop(columns='city', inplace=True)"
   ]
  },
  {
   "cell_type": "markdown",
   "metadata": {},
   "source": [
    "Apartment_id and names are irrelevant, also drop"
   ]
  },
  {
   "cell_type": "code",
   "execution_count": null,
   "metadata": {},
   "outputs": [],
   "source": [
    "df.drop(columns=['apartment_id','name'], inplace=True)"
   ]
  },
  {
   "cell_type": "markdown",
   "metadata": {},
   "source": [
    "Amenities format are not good for analysis, a record is a whole string instead of a list of string"
   ]
  },
  {
   "cell_type": "code",
   "execution_count": 49,
   "metadata": {},
   "outputs": [
    {
     "name": "stderr",
     "output_type": "stream",
     "text": [
      "/home/thieenq/.local/share/virtualenvs/interactive_plots-xAs2dAJo/lib/python3.7/site-packages/pandas/core/indexing.py:671: SettingWithCopyWarning: \n",
      "A value is trying to be set on a copy of a slice from a DataFrame\n",
      "\n",
      "See the caveats in the documentation: https://pandas.pydata.org/pandas-docs/stable/user_guide/indexing.html#returning-a-view-versus-a-copy\n",
      "  self._setitem_with_indexer(indexer, value)\n"
     ]
    }
   ],
   "source": [
    "# convert each record of amenities to a list of string\n",
    "import re\n",
    "for idx, amenities in enumerate(df['amenities']):\n",
    "    re_obj = re.findall(r'\"(.+?)\"', amenities)\n",
    "    df['amenities'].loc[idx] = re_obj"
   ]
  },
  {
   "cell_type": "markdown",
   "metadata": {},
   "source": [
    "Convert to proper type to conserve memory"
   ]
  },
  {
   "cell_type": "code",
   "execution_count": 8,
   "metadata": {},
   "outputs": [],
   "source": [
    "df['num_bedrooms'] = df['num_bedrooms'].astype('int32')\n",
    "df['num_bathrooms'] = df['num_bathrooms'].astype('int32')\n",
    "df['num_beds'] = df['num_beds'].astype('int32')\n",
    "df['area'] = df['area'].astype('int32')\n",
    "df['maximum_guests'] = df['maximum_guests'].astype('int32')\n",
    "df['rating'] = df['rating'].astype('int32')\n",
    "df['review_count'] = df['review_count'].astype('int32')\n",
    "df['like_count'] = df['like_count'].astype('int32')\n",
    "df['bedType_name'] = df['bedType_name'].astype('category')\n",
    "df['roomType_name'] = df['roomType_name'].astype('category')\n",
    "df['propertyType_name'] = df['propertyType_name'].astype('category')\n",
    "df['ward'] = df['ward'].astype('category')\n",
    "df['district'] = df['district'].astype('category')"
   ]
  },
  {
   "cell_type": "code",
   "execution_count": 9,
   "metadata": {
    "scrolled": false
   },
   "outputs": [
    {
     "data": {
      "text/plain": [
       "Index                101288\n",
       "num_bedrooms           9684\n",
       "num_bathrooms          9684\n",
       "num_beds               9684\n",
       "area                   9684\n",
       "maximum_guests         9684\n",
       "rating                 9684\n",
       "review_count           9684\n",
       "like_count             9684\n",
       "bedType_name           2805\n",
       "roomType_name          2517\n",
       "propertyType_name      2629\n",
       "nightly_price_vnd     19368\n",
       "ward                   5445\n",
       "district               3221\n",
       "latitude              19368\n",
       "longitude             19368\n",
       "amenities             19368\n",
       "dtype: int64"
      ]
     },
     "execution_count": 9,
     "metadata": {},
     "output_type": "execute_result"
    }
   ],
   "source": [
    "# much better\n",
    "df.memory_usage()"
   ]
  },
  {
   "cell_type": "markdown",
   "metadata": {},
   "source": [
    "**Overall dataset after cleaning**"
   ]
  },
  {
   "cell_type": "code",
   "execution_count": 10,
   "metadata": {},
   "outputs": [
    {
     "name": "stdout",
     "output_type": "stream",
     "text": [
      "<class 'pandas.core.frame.DataFrame'>\n",
      "Int64Index: 2421 entries, 0 to 3363\n",
      "Data columns (total 17 columns):\n",
      " #   Column             Non-Null Count  Dtype   \n",
      "---  ------             --------------  -----   \n",
      " 0   num_bedrooms       2421 non-null   int32   \n",
      " 1   num_bathrooms      2421 non-null   int32   \n",
      " 2   num_beds           2421 non-null   int32   \n",
      " 3   area               2421 non-null   int32   \n",
      " 4   maximum_guests     2421 non-null   int32   \n",
      " 5   rating             2421 non-null   int32   \n",
      " 6   review_count       2421 non-null   int32   \n",
      " 7   like_count         2421 non-null   int32   \n",
      " 8   bedType_name       2421 non-null   category\n",
      " 9   roomType_name      2421 non-null   category\n",
      " 10  propertyType_name  2421 non-null   category\n",
      " 11  nightly_price_vnd  2421 non-null   float64 \n",
      " 12  ward               2421 non-null   category\n",
      " 13  district           2421 non-null   category\n",
      " 14  latitude           2421 non-null   float64 \n",
      " 15  longitude          2421 non-null   float64 \n",
      " 16  amenities          2421 non-null   object  \n",
      "dtypes: category(5), float64(3), int32(8), object(1)\n",
      "memory usage: 266.5+ KB\n"
     ]
    }
   ],
   "source": [
    "df.info()"
   ]
  },
  {
   "cell_type": "code",
   "execution_count": 11,
   "metadata": {
    "scrolled": false
   },
   "outputs": [
    {
     "data": {
      "text/html": [
       "<div>\n",
       "<style scoped>\n",
       "    .dataframe tbody tr th:only-of-type {\n",
       "        vertical-align: middle;\n",
       "    }\n",
       "\n",
       "    .dataframe tbody tr th {\n",
       "        vertical-align: top;\n",
       "    }\n",
       "\n",
       "    .dataframe thead th {\n",
       "        text-align: right;\n",
       "    }\n",
       "</style>\n",
       "<table border=\"1\" class=\"dataframe\">\n",
       "  <thead>\n",
       "    <tr style=\"text-align: right;\">\n",
       "      <th></th>\n",
       "      <th>num_bedrooms</th>\n",
       "      <th>num_bathrooms</th>\n",
       "      <th>num_beds</th>\n",
       "      <th>area</th>\n",
       "      <th>maximum_guests</th>\n",
       "      <th>rating</th>\n",
       "      <th>review_count</th>\n",
       "      <th>like_count</th>\n",
       "      <th>bedType_name</th>\n",
       "      <th>roomType_name</th>\n",
       "      <th>propertyType_name</th>\n",
       "      <th>nightly_price_vnd</th>\n",
       "      <th>ward</th>\n",
       "      <th>district</th>\n",
       "      <th>latitude</th>\n",
       "      <th>longitude</th>\n",
       "      <th>amenities</th>\n",
       "    </tr>\n",
       "  </thead>\n",
       "  <tbody>\n",
       "    <tr>\n",
       "      <th>0</th>\n",
       "      <td>1</td>\n",
       "      <td>1</td>\n",
       "      <td>1</td>\n",
       "      <td>25</td>\n",
       "      <td>2</td>\n",
       "      <td>5</td>\n",
       "      <td>2</td>\n",
       "      <td>7</td>\n",
       "      <td>Real Bed</td>\n",
       "      <td>Nguyên căn</td>\n",
       "      <td>Căn hộ dịch vụ</td>\n",
       "      <td>4.337223e+05</td>\n",
       "      <td>Phường 2</td>\n",
       "      <td>Quận 5</td>\n",
       "      <td>10.759348</td>\n",
       "      <td>106.684093</td>\n",
       "      <td>[Tủ lạnh, Cảnh quan đẹp, Wifi, TV, Phù hợp với...</td>\n",
       "    </tr>\n",
       "    <tr>\n",
       "      <th>1</th>\n",
       "      <td>1</td>\n",
       "      <td>1</td>\n",
       "      <td>1</td>\n",
       "      <td>40</td>\n",
       "      <td>3</td>\n",
       "      <td>3</td>\n",
       "      <td>11</td>\n",
       "      <td>13</td>\n",
       "      <td>Queen Size</td>\n",
       "      <td>Nguyên căn</td>\n",
       "      <td>Nhà riêng</td>\n",
       "      <td>7.063881e+05</td>\n",
       "      <td>Phường 22</td>\n",
       "      <td>Quận 1</td>\n",
       "      <td>10.774437</td>\n",
       "      <td>106.700235</td>\n",
       "      <td>[Bếp điện, Lò vi sóng, Tủ lạnh, Wifi, Ban Công...</td>\n",
       "    </tr>\n",
       "    <tr>\n",
       "      <th>2</th>\n",
       "      <td>1</td>\n",
       "      <td>1</td>\n",
       "      <td>1</td>\n",
       "      <td>39</td>\n",
       "      <td>2</td>\n",
       "      <td>0</td>\n",
       "      <td>0</td>\n",
       "      <td>1</td>\n",
       "      <td>Queen Size</td>\n",
       "      <td>Phòng riêng</td>\n",
       "      <td>Căn hộ Studio</td>\n",
       "      <td>7.143938e+05</td>\n",
       "      <td>Tân Hưng</td>\n",
       "      <td>Quận 7</td>\n",
       "      <td>10.745375</td>\n",
       "      <td>106.701551</td>\n",
       "      <td>[Lò vi sóng, Tủ lạnh, Cảnh quan đẹp, Wifi, Ban...</td>\n",
       "    </tr>\n",
       "    <tr>\n",
       "      <th>3</th>\n",
       "      <td>2</td>\n",
       "      <td>2</td>\n",
       "      <td>3</td>\n",
       "      <td>100</td>\n",
       "      <td>7</td>\n",
       "      <td>4</td>\n",
       "      <td>11</td>\n",
       "      <td>5</td>\n",
       "      <td>Queen Size</td>\n",
       "      <td>Nguyên căn</td>\n",
       "      <td>Căn hộ chung cư</td>\n",
       "      <td>1.836845e+06</td>\n",
       "      <td>Đa Kao</td>\n",
       "      <td>Quận 1</td>\n",
       "      <td>10.784133</td>\n",
       "      <td>106.698292</td>\n",
       "      <td>[BBQ, Bếp điện, Lò vi sóng, Tủ lạnh, Wifi, Ban...</td>\n",
       "    </tr>\n",
       "    <tr>\n",
       "      <th>4</th>\n",
       "      <td>1</td>\n",
       "      <td>1</td>\n",
       "      <td>1</td>\n",
       "      <td>36</td>\n",
       "      <td>3</td>\n",
       "      <td>0</td>\n",
       "      <td>0</td>\n",
       "      <td>4</td>\n",
       "      <td>Queen Size</td>\n",
       "      <td>Nguyên căn</td>\n",
       "      <td>Căn hộ chung cư</td>\n",
       "      <td>8.163492e+05</td>\n",
       "      <td>Phường 22</td>\n",
       "      <td>Bình Thạnh</td>\n",
       "      <td>10.793400</td>\n",
       "      <td>106.717649</td>\n",
       "      <td>[BBQ, Lò vi sóng, Tủ lạnh, Cảnh quan đẹp, Gần ...</td>\n",
       "    </tr>\n",
       "  </tbody>\n",
       "</table>\n",
       "</div>"
      ],
      "text/plain": [
       "   num_bedrooms  num_bathrooms  num_beds  area  maximum_guests  rating  \\\n",
       "0             1              1         1    25               2       5   \n",
       "1             1              1         1    40               3       3   \n",
       "2             1              1         1    39               2       0   \n",
       "3             2              2         3   100               7       4   \n",
       "4             1              1         1    36               3       0   \n",
       "\n",
       "   review_count  like_count bedType_name roomType_name propertyType_name  \\\n",
       "0             2           7     Real Bed    Nguyên căn    Căn hộ dịch vụ   \n",
       "1            11          13   Queen Size    Nguyên căn         Nhà riêng   \n",
       "2             0           1   Queen Size   Phòng riêng     Căn hộ Studio   \n",
       "3            11           5   Queen Size    Nguyên căn   Căn hộ chung cư   \n",
       "4             0           4   Queen Size    Nguyên căn   Căn hộ chung cư   \n",
       "\n",
       "   nightly_price_vnd       ward    district   latitude   longitude  \\\n",
       "0       4.337223e+05   Phường 2      Quận 5  10.759348  106.684093   \n",
       "1       7.063881e+05  Phường 22      Quận 1  10.774437  106.700235   \n",
       "2       7.143938e+05   Tân Hưng      Quận 7  10.745375  106.701551   \n",
       "3       1.836845e+06     Đa Kao      Quận 1  10.784133  106.698292   \n",
       "4       8.163492e+05  Phường 22  Bình Thạnh  10.793400  106.717649   \n",
       "\n",
       "                                           amenities  \n",
       "0  [Tủ lạnh, Cảnh quan đẹp, Wifi, TV, Phù hợp với...  \n",
       "1  [Bếp điện, Lò vi sóng, Tủ lạnh, Wifi, Ban Công...  \n",
       "2  [Lò vi sóng, Tủ lạnh, Cảnh quan đẹp, Wifi, Ban...  \n",
       "3  [BBQ, Bếp điện, Lò vi sóng, Tủ lạnh, Wifi, Ban...  \n",
       "4  [BBQ, Lò vi sóng, Tủ lạnh, Cảnh quan đẹp, Gần ...  "
      ]
     },
     "execution_count": 11,
     "metadata": {},
     "output_type": "execute_result"
    }
   ],
   "source": [
    "df.head()"
   ]
  },
  {
   "cell_type": "markdown",
   "metadata": {},
   "source": [
    "# 2. Exploratory Data Analysis\n",
    "***"
   ]
  },
  {
   "cell_type": "markdown",
   "metadata": {},
   "source": [
    "In this section, we'll mainly focus on the price, specifically the nightly price of each location"
   ]
  },
  {
   "cell_type": "code",
   "execution_count": 12,
   "metadata": {},
   "outputs": [
    {
     "data": {
      "text/plain": [
       "<matplotlib.axes._subplots.AxesSubplot at 0x7f796b810a20>"
      ]
     },
     "execution_count": 12,
     "metadata": {},
     "output_type": "execute_result"
    },
    {
     "data": {
      "image/png": "[encoded data removed]",
      "text/plain": [
       "<Figure size 432x288 with 1 Axes>"
      ]
     },
     "metadata": {
      "needs_background": "light"
     },
     "output_type": "display_data"
    }
   ],
   "source": [
    "# let's check out its distribution\n",
    "\n",
    "sns.distplot(df['nightly_price_vnd'])"
   ]
  },
  {
   "cell_type": "markdown",
   "metadata": {},
   "source": [
    "**INSIGHT**\n",
    "***\n",
    "- Definitely not a normal distribution\n",
    "- A bit skewed to the left\n",
    "- Got a very sharp peak"
   ]
  },
  {
   "cell_type": "markdown",
   "metadata": {},
   "source": [
    "Let's check out it's stats"
   ]
  },
  {
   "cell_type": "code",
   "execution_count": 13,
   "metadata": {},
   "outputs": [
    {
     "data": {
      "text/plain": [
       "count    2.421000e+03\n",
       "mean     1.169793e+06\n",
       "std      9.517443e+05\n",
       "min      1.276208e+05\n",
       "25%      5.658169e+05\n",
       "50%      8.674446e+05\n",
       "75%      1.504371e+06\n",
       "max      9.795955e+06\n",
       "Name: nightly_price_vnd, dtype: float64"
      ]
     },
     "execution_count": 13,
     "metadata": {},
     "output_type": "execute_result"
    }
   ],
   "source": [
    "df['nightly_price_vnd'].describe()"
   ]
  },
  {
   "cell_type": "markdown",
   "metadata": {},
   "source": [
    "This seems normal, there's no weird record where the price is negative. Which is good for our model later"
   ]
  },
  {
   "cell_type": "markdown",
   "metadata": {},
   "source": [
    "## 2a. Relationship with numerical values\n",
    "***"
   ]
  },
  {
   "cell_type": "code",
   "execution_count": 14,
   "metadata": {},
   "outputs": [
    {
     "data": {
      "text/plain": [
       "<matplotlib.axes._subplots.AxesSubplot at 0x7f796ba9d898>"
      ]
     },
     "execution_count": 14,
     "metadata": {},
     "output_type": "execute_result"
    },
    {
     "data": {
      "image/png": "[encoded data removed]",
      "text/plain": [
       "<Figure size 432x288 with 1 Axes>"
      ]
     },
     "metadata": {
      "needs_background": "light"
     },
     "output_type": "display_data"
    }
   ],
   "source": [
    "sns.scatterplot(x='nightly_price_vnd', y='area', data=df)"
   ]
  },
  {
   "cell_type": "code",
   "execution_count": 15,
   "metadata": {},
   "outputs": [
    {
     "data": {
      "text/plain": [
       "<matplotlib.axes._subplots.AxesSubplot at 0x7f796bb000b8>"
      ]
     },
     "execution_count": 15,
     "metadata": {},
     "output_type": "execute_result"
    },
    {
     "data": {
      "image/png": "[encoded data removed]",
      "text/plain": [
       "<Figure size 432x288 with 1 Axes>"
      ]
     },
     "metadata": {
      "needs_background": "light"
     },
     "output_type": "display_data"
    }
   ],
   "source": [
    "sns.scatterplot(x='nightly_price_vnd', y='like_count', data=df)"
   ]
  },
  {
   "cell_type": "markdown",
   "metadata": {},
   "source": [
    "## 2b. Relationship with categorical values\n",
    "***"
   ]
  },
  {
   "cell_type": "code",
   "execution_count": 16,
   "metadata": {},
   "outputs": [
    {
     "data": {
      "text/plain": [
       "<matplotlib.axes._subplots.AxesSubplot at 0x7f796b9cc780>"
      ]
     },
     "execution_count": 16,
     "metadata": {},
     "output_type": "execute_result"
    },
    {
     "data": {
      "image/png": "[encoded data removed]",
      "text/plain": [
       "<Figure size 1080x720 with 1 Axes>"
      ]
     },
     "metadata": {
      "needs_background": "light"
     },
     "output_type": "display_data"
    }
   ],
   "source": [
    "plt.figure(figsize=(15,10))\n",
    "sns.boxplot(x='propertyType_name', y='nightly_price_vnd', data=df)"
   ]
  },
  {
   "cell_type": "code",
   "execution_count": 17,
   "metadata": {},
   "outputs": [
    {
     "data": {
      "text/plain": [
       "<matplotlib.axes._subplots.AxesSubplot at 0x7f796bd2abe0>"
      ]
     },
     "execution_count": 17,
     "metadata": {},
     "output_type": "execute_result"
    },
    {
     "data": {
      "image/png": "[encoded data removed]",
      "text/plain": [
       "<Figure size 1224x720 with 1 Axes>"
      ]
     },
     "metadata": {
      "needs_background": "light"
     },
     "output_type": "display_data"
    }
   ],
   "source": [
    "plt.figure(figsize=(17,10))\n",
    "sns.boxplot(x='district', y='nightly_price_vnd', data=df)"
   ]
  },
  {
   "cell_type": "code",
   "execution_count": 18,
   "metadata": {},
   "outputs": [
    {
     "data": {
      "text/plain": [
       "<matplotlib.axes._subplots.AxesSubplot at 0x7f796bd2afd0>"
      ]
     },
     "execution_count": 18,
     "metadata": {},
     "output_type": "execute_result"
    },
    {
     "data": {
      "image/png": "[encoded data removed]",
      "text/plain": [
       "<Figure size 1080x720 with 1 Axes>"
      ]
     },
     "metadata": {
      "needs_background": "light"
     },
     "output_type": "display_data"
    }
   ],
   "source": [
    "plt.figure(figsize=(15,10))\n",
    "sns.boxplot(x='num_bedrooms', y='nightly_price_vnd', data=df)"
   ]
  },
  {
   "cell_type": "markdown",
   "metadata": {},
   "source": [
    "**SUMMARY**\n",
    "***\n",
    "- \n",
    "- \n",
    "- "
   ]
  },
  {
   "cell_type": "markdown",
   "metadata": {},
   "source": [
    "## 2c. Mapping relationship between variables\n",
    "***"
   ]
  },
  {
   "cell_type": "code",
   "execution_count": 19,
   "metadata": {
    "scrolled": true
   },
   "outputs": [
    {
     "data": {
      "text/plain": [
       "<matplotlib.axes._subplots.AxesSubplot at 0x7f796bd2aef0>"
      ]
     },
     "execution_count": 19,
     "metadata": {},
     "output_type": "execute_result"
    },
    {
     "data": {
      "image/png": "[encoded data removed]",
      "text/plain": [
       "<Figure size 720x720 with 2 Axes>"
      ]
     },
     "metadata": {
      "needs_background": "light"
     },
     "output_type": "display_data"
    }
   ],
   "source": [
    "corr_matrix = df.corr()\n",
    "plt.figure(figsize=(10,10))\n",
    "sns.heatmap(corr_matrix, vmax=.8, square=True)"
   ]
  },
  {
   "cell_type": "markdown",
   "metadata": {},
   "source": [
    "# 3. Modeling and prediction\n",
    "***"
   ]
  },
  {
   "cell_type": "markdown",
   "metadata": {},
   "source": [
    "'rating', 'review_count' and 'like_count' relationships with price are too incoherent that I don't think it'll be good to include them in our model, so we'll drop them\n",
    "\n",
    "'ward' is just a more detailed represetation of 'district', the same can be said with 'latitude' and 'longitude'"
   ]
  },
  {
   "cell_type": "code",
   "execution_count": null,
   "metadata": {},
   "outputs": [],
   "source": [
    "df_pred = df.drop(columns=['amenities', 'rating', 'review_count', 'like_count', 'latitude', 'longitude', 'ward'])"
   ]
  },
  {
   "cell_type": "markdown",
   "metadata": {},
   "source": [
    "For other categorical value, we'll transform them using one hot coding to fit  with our model"
   ]
  },
  {
   "cell_type": "code",
   "execution_count": 20,
   "metadata": {},
   "outputs": [],
   "source": [
    "df_pred = pd.get_dummies(df_pred,\n",
    "                    columns=['bedType_name', 'roomType_name', 'propertyType_name', 'district'],\n",
    "                    drop_first=True)  # To avoid dummy trap"
   ]
  },
  {
   "cell_type": "code",
   "execution_count": 34,
   "metadata": {},
   "outputs": [
    {
     "data": {
      "text/plain": [
       "Index(['num_bedrooms', 'num_bathrooms', 'num_beds', 'area', 'maximum_guests',\n",
       "       'nightly_price_vnd', 'bedType_name_Couch', 'bedType_name_Futon',\n",
       "       'bedType_name_King size', 'bedType_name_Queen Size',\n",
       "       'bedType_name_Real Bed', 'bedType_name_Sofa Bed',\n",
       "       'bedType_name_Twins Bed', 'roomType_name_Phòng riêng',\n",
       "       'propertyType_name_Căn hộ Studio', 'propertyType_name_Căn hộ chung cư',\n",
       "       'propertyType_name_Căn hộ dịch vụ', 'propertyType_name_Khác',\n",
       "       'propertyType_name_Nhà riêng', 'district_Bình Thạnh',\n",
       "       'district_Cần Giờ', 'district_Củ Chi', 'district_Gò Vấp',\n",
       "       'district_Nhà Bè', 'district_Phú Nhuận', 'district_Quận 1',\n",
       "       'district_Quận 10', 'district_Quận 12', 'district_Quận 2',\n",
       "       'district_Quận 3', 'district_Quận 4', 'district_Quận 5',\n",
       "       'district_Quận 6', 'district_Quận 7', 'district_Quận 8',\n",
       "       'district_Quận 9', 'district_Thủ Đức', 'district_Tân Bình'],\n",
       "      dtype='object')"
      ]
     },
     "execution_count": 34,
     "metadata": {},
     "output_type": "execute_result"
    }
   ],
   "source": [
    "# looks good now\n",
    "df_pred.columns"
   ]
  },
  {
   "cell_type": "code",
   "execution_count": 22,
   "metadata": {},
   "outputs": [],
   "source": [
    "# Plot learning curve\n",
    "def plot_learning_curve(estimator, title, X, y, ylim=None, cv=None,\n",
    "                        n_jobs=1, train_sizes=np.linspace(.1, 1.0, 5)):\n",
    "    plt.figure()\n",
    "    plt.title(title)\n",
    "    if ylim is not None:\n",
    "        plt.ylim(*ylim)\n",
    "    plt.xlabel(\"Training examples\")\n",
    "    plt.ylabel(\"Score\")\n",
    "    train_sizes, train_scores, test_scores = learning_curve(\n",
    "        estimator, X, y, cv=cv, n_jobs=n_jobs, train_sizes=train_sizes)\n",
    "    train_scores_mean = np.mean(train_scores, axis=1)\n",
    "    train_scores_std = np.std(train_scores, axis=1)\n",
    "    test_scores_mean = np.mean(test_scores, axis=1)\n",
    "    test_scores_std = np.std(test_scores, axis=1)\n",
    "    plt.grid()\n",
    "\n",
    "    plt.fill_between(train_sizes, train_scores_mean - train_scores_std,\n",
    "                     train_scores_mean + train_scores_std, alpha=0.1,\n",
    "                     color=\"r\")\n",
    "    plt.fill_between(train_sizes, test_scores_mean - test_scores_std,\n",
    "                     test_scores_mean + test_scores_std, alpha=0.1, color=\"g\")\n",
    "    plt.plot(train_sizes, train_scores_mean, 'o-', color=\"r\",\n",
    "             label=\"Training score\")\n",
    "    plt.plot(train_sizes, test_scores_mean, 'o-', color=\"g\",\n",
    "             label=\"Validation score\")\n",
    "\n",
    "    plt.legend(loc=\"best\")\n",
    "    return plt"
   ]
  },
  {
   "cell_type": "code",
   "execution_count": 23,
   "metadata": {},
   "outputs": [],
   "source": [
    "# Plot validation curve\n",
    "def plot_validation_curve(estimator, title, X, y, param_name, param_range, ylim=None, cv=None,\n",
    "                        n_jobs=1, train_sizes=np.linspace(.1, 1.0, 5)):\n",
    "    train_scores, test_scores = validation_curve(estimator, X, y, param_name, param_range, cv)\n",
    "    train_mean = np.mean(train_scores, axis=1)\n",
    "    train_std = np.std(train_scores, axis=1)\n",
    "    test_mean = np.mean(test_scores, axis=1)\n",
    "    test_std = np.std(test_scores, axis=1)\n",
    "    plt.plot(param_range, train_mean, color='r', marker='o', markersize=5, label='Training score')\n",
    "    plt.fill_between(param_range, train_mean + train_std, train_mean - train_std, alpha=0.15, color='r')\n",
    "    plt.plot(param_range, test_mean, color='g', linestyle='--', marker='s', markersize=5, label='Validation score')\n",
    "    plt.fill_between(param_range, test_mean + test_std, test_mean - test_std, alpha=0.15, color='g')\n",
    "    plt.grid() \n",
    "    plt.xscale('log')\n",
    "    plt.legend(loc='best') \n",
    "    plt.xlabel('Parameter') \n",
    "    plt.ylabel('Score') \n",
    "    plt.ylim(ylim)"
   ]
  },
  {
   "cell_type": "markdown",
   "metadata": {},
   "source": [
    "Now we split our dataset to two, train set and test set, with a ratio of  8/2"
   ]
  },
  {
   "cell_type": "code",
   "execution_count": 24,
   "metadata": {},
   "outputs": [],
   "source": [
    "# create train test split\n",
    "x = df_pred.drop(columns='nightly_price_vnd')\n",
    "y = df_pred['nightly_price_vnd']\n",
    "x_train, x_test, y_train, y_test = train_test_split(x, y, test_size=.2, random_state=0)"
   ]
  },
  {
   "cell_type": "markdown",
   "metadata": {},
   "source": [
    "For this dataset, we'll use a simple regression model to test the water first, first choice would be linear regression since the variable we're predicting is continuous"
   ]
  },
  {
   "cell_type": "code",
   "execution_count": 25,
   "metadata": {
    "scrolled": true
   },
   "outputs": [
    {
     "data": {
      "text/plain": [
       "LinearRegression(copy_X=True, fit_intercept=True, n_jobs=None, normalize=False)"
      ]
     },
     "execution_count": 25,
     "metadata": {},
     "output_type": "execute_result"
    }
   ],
   "source": [
    "# initialise our model\n",
    "linreg = LinearRegression()\n",
    "linreg.fit(x_train, y_train)"
   ]
  },
  {
   "cell_type": "markdown",
   "metadata": {},
   "source": [
    "Using sklearn *cross_val_score* to determine our model accuracy"
   ]
  },
  {
   "cell_type": "code",
   "execution_count": 37,
   "metadata": {},
   "outputs": [
    {
     "name": "stdout",
     "output_type": "stream",
     "text": [
      "CV accuracy: 0.542139080821293 +/- 0.12179115478727356\n"
     ]
    }
   ],
   "source": [
    "# model performance\n",
    "scores = cross_val_score(linreg, x_train, y_train, cv=10)\n",
    "print(f'CV accuracy: {np.mean(scores)} +/- {np.std(scores)}')"
   ]
  },
  {
   "cell_type": "code",
   "execution_count": 27,
   "metadata": {},
   "outputs": [
    {
     "data": {
      "image/png": "[encoded data removed]",
      "text/plain": [
       "<Figure size 432x288 with 1 Axes>"
      ]
     },
     "metadata": {
      "needs_background": "light"
     },
     "output_type": "display_data"
    }
   ],
   "source": [
    "# Plot learning curves\n",
    "plot_learning_curve(linreg,\n",
    "                    title='Learning Curves (Linear Regression)',\n",
    "                    X=x_train, y=y_train,\n",
    "                    cv=10,\n",
    "                    n_jobs=1);"
   ]
  },
  {
   "cell_type": "markdown",
   "metadata": {},
   "source": [
    "**INSIGHT**\n",
    "***\n",
    "- Our model **overfits** as the examples applied increase, at 1800 points of data, the gap between training score and validation score widens. This can be mitigated by *feeding* more data into our model our *use less features*.\n",
    "- Our model **underfits**, that is, both of our final scores are just slightly better then toss-a-coin blind guess. In this case, feeding more data is not helpful because the data isn't good enough to train the model, best bet is that we *collect another set of data*."
   ]
  },
  {
   "cell_type": "markdown",
   "metadata": {},
   "source": [
    "Next, we'll pass into the model a test dataset and compare our result with the actual result"
   ]
  },
  {
   "cell_type": "code",
   "execution_count": 53,
   "metadata": {},
   "outputs": [],
   "source": [
    "y_pred = linreg.predict(x_test)"
   ]
  },
  {
   "cell_type": "code",
   "execution_count": 54,
   "metadata": {
    "scrolled": false
   },
   "outputs": [
    {
     "data": {
      "text/html": [
       "<div>\n",
       "<style scoped>\n",
       "    .dataframe tbody tr th:only-of-type {\n",
       "        vertical-align: middle;\n",
       "    }\n",
       "\n",
       "    .dataframe tbody tr th {\n",
       "        vertical-align: top;\n",
       "    }\n",
       "\n",
       "    .dataframe thead th {\n",
       "        text-align: right;\n",
       "    }\n",
       "</style>\n",
       "<table border=\"1\" class=\"dataframe\">\n",
       "  <thead>\n",
       "    <tr style=\"text-align: right;\">\n",
       "      <th></th>\n",
       "      <th>Actual</th>\n",
       "      <th>Predicted</th>\n",
       "    </tr>\n",
       "  </thead>\n",
       "  <tbody>\n",
       "    <tr>\n",
       "      <th>2145</th>\n",
       "      <td>1.648239e+06</td>\n",
       "      <td>1.832120e+06</td>\n",
       "    </tr>\n",
       "    <tr>\n",
       "      <th>931</th>\n",
       "      <td>1.295045e+06</td>\n",
       "      <td>7.856638e+05</td>\n",
       "    </tr>\n",
       "    <tr>\n",
       "      <th>1008</th>\n",
       "      <td>8.980547e+05</td>\n",
       "      <td>5.904278e+05</td>\n",
       "    </tr>\n",
       "    <tr>\n",
       "      <th>2125</th>\n",
       "      <td>8.163492e+05</td>\n",
       "      <td>1.384110e+06</td>\n",
       "    </tr>\n",
       "    <tr>\n",
       "      <th>777</th>\n",
       "      <td>8.163492e+05</td>\n",
       "      <td>9.580591e+05</td>\n",
       "    </tr>\n",
       "    <tr>\n",
       "      <th>...</th>\n",
       "      <td>...</td>\n",
       "      <td>...</td>\n",
       "    </tr>\n",
       "    <tr>\n",
       "      <th>1771</th>\n",
       "      <td>1.412776e+06</td>\n",
       "      <td>1.456908e+06</td>\n",
       "    </tr>\n",
       "    <tr>\n",
       "      <th>266</th>\n",
       "      <td>1.326597e+06</td>\n",
       "      <td>1.188242e+06</td>\n",
       "    </tr>\n",
       "    <tr>\n",
       "      <th>2285</th>\n",
       "      <td>2.335790e+06</td>\n",
       "      <td>1.726436e+06</td>\n",
       "    </tr>\n",
       "    <tr>\n",
       "      <th>30</th>\n",
       "      <td>5.886568e+05</td>\n",
       "      <td>6.645677e+05</td>\n",
       "    </tr>\n",
       "    <tr>\n",
       "      <th>2408</th>\n",
       "      <td>1.295045e+06</td>\n",
       "      <td>1.681067e+06</td>\n",
       "    </tr>\n",
       "  </tbody>\n",
       "</table>\n",
       "<p>485 rows × 2 columns</p>\n",
       "</div>"
      ],
      "text/plain": [
       "            Actual     Predicted\n",
       "2145  1.648239e+06  1.832120e+06\n",
       "931   1.295045e+06  7.856638e+05\n",
       "1008  8.980547e+05  5.904278e+05\n",
       "2125  8.163492e+05  1.384110e+06\n",
       "777   8.163492e+05  9.580591e+05\n",
       "...            ...           ...\n",
       "1771  1.412776e+06  1.456908e+06\n",
       "266   1.326597e+06  1.188242e+06\n",
       "2285  2.335790e+06  1.726436e+06\n",
       "30    5.886568e+05  6.645677e+05\n",
       "2408  1.295045e+06  1.681067e+06\n",
       "\n",
       "[485 rows x 2 columns]"
      ]
     },
     "execution_count": 54,
     "metadata": {},
     "output_type": "execute_result"
    }
   ],
   "source": [
    "df_cv = pd.DataFrame({'Actual': y_test, 'Predicted': y_pred})\n",
    "df_cv"
   ]
  },
  {
   "cell_type": "code",
   "execution_count": 57,
   "metadata": {
    "scrolled": true
   },
   "outputs": [
    {
     "name": "stdout",
     "output_type": "stream",
     "text": [
      "Mean Absolute Error: 357720.14779575495\n",
      "Mean Squared Error: 350564480954.02435\n",
      "Root Mean Squared Error: 592084.8595885765\n"
     ]
    }
   ],
   "source": [
    "print(f'Mean Absolute Error: {metrics.mean_absolute_error(y_test, y_pred)}')  \n",
    "print(f'Mean Squared Error: {metrics.mean_squared_error(y_test, y_pred)}')  \n",
    "print(f'Root Mean Squared Error: {np.sqrt(metrics.mean_squared_error(y_test, y_pred))}')"
   ]
  },
  {
   "cell_type": "markdown",
   "metadata": {},
   "source": [
    "**INSIGHT**\n",
    "***\n",
    "- The RMS calculation are all over the place\n",
    "- Perhaps our dataset is not adequate to properly train the model, more data are always welcome.\n",
    "- Maybe our feature engineering is not good enough, some indepent variables might not have the best covariance with our predicting variable. Detailed visualisaton among them can provide us with more information on how to best select a feature\n",
    "\n",
    "> Coupled with the cross validation score, we should be able to conclude that linear regression is **not ideal** for this scenario"
   ]
  },
  {
   "cell_type": "code",
   "execution_count": null,
   "metadata": {},
   "outputs": [],
   "source": []
  }
 ],
 "metadata": {
  "kernelspec": {
   "display_name": "Python 3",
   "language": "python",
   "name": "python3"
  },
  "language_info": {
   "codemirror_mode": {
    "name": "ipython",
    "version": 3
   },
   "file_extension": ".py",
   "mimetype": "text/x-python",
   "name": "python",
   "nbconvert_exporter": "python",
   "pygments_lexer": "ipython3",
   "version": "3.7.3"
  }
 },
 "nbformat": 4,
 "nbformat_minor": 4
}